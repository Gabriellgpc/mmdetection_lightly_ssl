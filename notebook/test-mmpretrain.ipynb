{
 "cells": [
  {
   "cell_type": "code",
   "execution_count": null,
   "metadata": {},
   "outputs": [],
   "source": [
    "from mmpretrain import list_models\n",
    "from mmpretrain import get_model\n",
    "\n",
    "import torch"
   ]
  },
  {
   "cell_type": "markdown",
   "metadata": {},
   "source": [
    "# List available models"
   ]
  },
  {
   "cell_type": "code",
   "execution_count": null,
   "metadata": {},
   "outputs": [],
   "source": [
    "list_models('*convnext*')"
   ]
  },
  {
   "cell_type": "markdown",
   "metadata": {},
   "source": [
    "# Get a model"
   ]
  },
  {
   "cell_type": "code",
   "execution_count": null,
   "metadata": {},
   "outputs": [],
   "source": [
    "model = get_model('convnext-base_in21k-pre_3rdparty_in1k', pretrained=True)\n",
    "x = torch.rand((1, 3, 224, 224))\n",
    "y = model(x)\n",
    "print(type(y), y.shape)"
   ]
  },
  {
   "cell_type": "code",
   "execution_count": null,
   "metadata": {},
   "outputs": [],
   "source": [
    "from mmpretrain import get_model\n",
    "\n",
    "# Get model without loading pre-trained weight.\n",
    "model = get_model(\"convnext-base_in21k-pre_3rdparty_in1k\")\n",
    "\n",
    "# Get model and load the default checkpoint.\n",
    "model = get_model(\"convnext-base_in21k-pre_3rdparty_in1k\", pretrained=True)\n",
    "\n",
    "# Get model and load the specified checkpoint.\n",
    "# model = get_model(\"convnext-base_in21k-pre_3rdparty_in1k\", pretrained=\"your_local_checkpoint_path\")\n",
    "\n",
    "# Get model with extra initialization arguments, for example, modify the num_classes in head.\n",
    "model = get_model(\"convnext-base_in21k-pre_3rdparty_in1k\", head=dict(num_classes=10))\n",
    "\n",
    "# Another example, remove the neck and head, and output from stage 1, 2, 3 in backbone\n",
    "model_headless = get_model(\"resnet18_8xb32_in1k\", head=None, neck=None, backbone=dict(out_indices=(1,)))\n",
    "\n",
    "# Another example, remove the neck and head, and output only the backbone\n",
    "model_backbone = get_model(\"resnet18_8xb32_in1k\", head=None, neck=None)"
   ]
  },
  {
   "cell_type": "code",
   "execution_count": null,
   "metadata": {},
   "outputs": [],
   "source": [
    "y = model_backbone(x)\n",
    "y[0].shape"
   ]
  },
  {
   "cell_type": "code",
   "execution_count": null,
   "metadata": {},
   "outputs": [],
   "source": [
    "from mmpretrain import inference_model\n",
    "image = 'https://github.com/open-mmlab/mmpretrain/raw/main/demo/demo.JPEG'\n",
    "# If you have no graphical interface, please set `show=False`\n",
    "result = inference_model('resnet50_8xb32_in1k', image, show=True)\n",
    "print(result['pred_class'])"
   ]
  },
  {
   "cell_type": "markdown",
   "metadata": {},
   "source": [
    "# Extract Features From Image"
   ]
  },
  {
   "cell_type": "code",
   "execution_count": null,
   "metadata": {},
   "outputs": [],
   "source": [
    "from mmpretrain import FeatureExtractor, get_model\n",
    "import torch\n",
    "from glob import glob\n",
    "import numpy as np"
   ]
  },
  {
   "cell_type": "code",
   "execution_count": null,
   "metadata": {},
   "outputs": [],
   "source": []
  },
  {
   "cell_type": "code",
   "execution_count": null,
   "metadata": {},
   "outputs": [],
   "source": [
    "# model = get_model('resnet50_8xb32_in1k', backbone=dict(out_indices=(0, 1, 2, 3)))\n",
    "# model = get_model('resnet50_8xb32_in1k')\n",
    "'vit-small-p14_dinov2-pre_3rdparty'\n",
    "\n",
    "model = get_model('vit-base-p32_clip-laion2b-in12k-pre_3rdparty_in1k', pretrained=True)\n",
    "extractor = FeatureExtractor(model)\n",
    "\n",
    "features = extractor('https://github.com/open-mmlab/mmpretrain/raw/main/demo/demo.JPEG')[0]\n",
    "features[0].shape#, features[1].shape, features[2].shape, features[3].shape"
   ]
  },
  {
   "cell_type": "code",
   "execution_count": null,
   "metadata": {},
   "outputs": [],
   "source": [
    "all_imagespath = glob('/home/lcondados/workspace/data/greiburg_groceries/freiburg_groceries_dataset/images/*/*.png')"
   ]
  },
  {
   "cell_type": "code",
   "execution_count": null,
   "metadata": {},
   "outputs": [],
   "source": [
    "features = extractor(all_imagespath)"
   ]
  },
  {
   "cell_type": "code",
   "execution_count": null,
   "metadata": {},
   "outputs": [],
   "source": [
    "embeddings = [np.array(feat[0]) for feat in features]\n",
    "embeddings = np.array(embeddings)"
   ]
  },
  {
   "cell_type": "code",
   "execution_count": null,
   "metadata": {},
   "outputs": [],
   "source": [
    "import fiftyone as fo\n",
    "import fiftyone.brain as fob"
   ]
  },
  {
   "cell_type": "code",
   "execution_count": null,
   "metadata": {},
   "outputs": [],
   "source": [
    "dataset = fo.load_dataset('groceries')"
   ]
  },
  {
   "cell_type": "code",
   "execution_count": null,
   "metadata": {},
   "outputs": [],
   "source": [
    "exact_duplicates = fob.compute_exact_duplicates( dataset, num_workers=5)"
   ]
  },
  {
   "cell_type": "code",
   "execution_count": null,
   "metadata": {},
   "outputs": [],
   "source": [
    "fob.compute_similarity(dataset, embeddings=embeddings, brain_key='similarity')"
   ]
  },
  {
   "cell_type": "code",
   "execution_count": null,
   "metadata": {},
   "outputs": [],
   "source": [
    "fob.compute_uniqueness(dataset, embeddings=embeddings)"
   ]
  },
  {
   "cell_type": "code",
   "execution_count": null,
   "metadata": {},
   "outputs": [],
   "source": [
    "result_viz = fob.compute_visualization(dataset,\n",
    "                          embeddings = embeddings,\n",
    "                          method='umap',\n",
    "                          brain_key='clip_mmpretrain_umap'\n",
    "                          )"
   ]
  },
  {
   "cell_type": "code",
   "execution_count": null,
   "metadata": {},
   "outputs": [],
   "source": [
    "dataset"
   ]
  },
  {
   "cell_type": "code",
   "execution_count": null,
   "metadata": {},
   "outputs": [],
   "source": []
  }
 ],
 "metadata": {
  "kernelspec": {
   "display_name": "mmdet-ssl",
   "language": "python",
   "name": "python3"
  },
  "language_info": {
   "codemirror_mode": {
    "name": "ipython",
    "version": 3
   },
   "file_extension": ".py",
   "mimetype": "text/x-python",
   "name": "python",
   "nbconvert_exporter": "python",
   "pygments_lexer": "ipython3",
   "version": "3.9.16"
  },
  "orig_nbformat": 4
 },
 "nbformat": 4,
 "nbformat_minor": 2
}
