{
 "cells": [
  {
   "cell_type": "code",
   "execution_count": null,
   "metadata": {},
   "outputs": [],
   "source": [
    "import fiftyone\n",
    "import fiftyone as fo\n",
    "import fiftyone.zoo as foz\n",
    "import fiftyone.utils.coco as fouc"
   ]
  },
  {
   "cell_type": "code",
   "execution_count": null,
   "metadata": {},
   "outputs": [],
   "source": [
    "# Customize where zoo datasets are downloaded\n",
    "fo.config.dataset_zoo_dir = \"/home/lcondados/workspace/data\""
   ]
  },
  {
   "cell_type": "code",
   "execution_count": null,
   "metadata": {},
   "outputs": [],
   "source": [
    "train_dataset = foz.load_zoo_dataset(\"coco-2017\",\n",
    "                               split=\"train\",\n",
    "                               label_types=['detections', 'segmentations'],\n",
    "                               num_workers=8,\n",
    "                               seed=51,\n",
    "                               shuffle=True,\n",
    "                               max_samples=5000)\n",
    "train_dataset.name = \"coco-2017-train-sample\"\n",
    "\n",
    "val_dataset = foz.load_zoo_dataset(\"coco-2017\",\n",
    "                                     split=\"validation\",\n",
    "                                     label_types=['detections', 'segmentations'],\n",
    "                                     num_workers=8,\n",
    "                                     seed=51,\n",
    "                                     shuffle=True,\n",
    "                                     max_samples=500)"
   ]
  },
  {
   "cell_type": "code",
   "execution_count": null,
   "metadata": {},
   "outputs": [],
   "source": [
    "# train_coco_impoter = fouc.COCODetectionDatasetImporter(data_path='/home/lcondados/workspace/data/coco/train/data',\n",
    "#                                                        labels_path='/home/lcondados/workspace/data/coco/train/labels.json',\n",
    "#                                                        max_samples=2000,\n",
    "#                                                        shuffle=True,\n",
    "#                                                        seed=51,\n",
    "#                                                        )\n",
    "\n",
    "# val_coco_importer = fouc.COCODetectionDatasetImporter(data_path='/home/lcondados/workspace/data/coco/validation/data',\n",
    "#                                                       labels_path='/home/lcondados/workspace/data/coco/validation/labels.json',\n",
    "#                                                       max_samples=500,\n",
    "#                                                       shuffle=True,\n",
    "#                                                       seed=51,\n",
    "#                                                       )"
   ]
  },
  {
   "cell_type": "code",
   "execution_count": null,
   "metadata": {},
   "outputs": [],
   "source": [
    "# dataset.add_importer(train_coco_impoter, tags=['train'])\n",
    "# dataset.add_importer(val_coco_importer, tags=['validation'])"
   ]
  },
  {
   "cell_type": "code",
   "execution_count": null,
   "metadata": {},
   "outputs": [],
   "source": [
    "# dataset.export(export_dir='/home/lcondados/workspace/data/coco_2017_5k_500',\n",
    "#                dataset_type=fiftyone.types.COCODetectionDataset,\n",
    "#                )"
   ]
  },
  {
   "cell_type": "code",
   "execution_count": null,
   "metadata": {},
   "outputs": [],
   "source": [
    "# fiftyone.Dataset.export"
   ]
  }
 ],
 "metadata": {
  "kernelspec": {
   "display_name": "mmdet-ssl",
   "language": "python",
   "name": "python3"
  },
  "language_info": {
   "codemirror_mode": {
    "name": "ipython",
    "version": 3
   },
   "file_extension": ".py",
   "mimetype": "text/x-python",
   "name": "python",
   "nbconvert_exporter": "python",
   "pygments_lexer": "ipython3",
   "version": "3.9.16"
  },
  "orig_nbformat": 4
 },
 "nbformat": 4,
 "nbformat_minor": 2
}
