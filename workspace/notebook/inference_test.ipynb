{
 "cells": [
  {
   "cell_type": "code",
   "execution_count": null,
   "metadata": {},
   "outputs": [],
   "source": [
    "import mmcv\n",
    "from mmdet.apis import init_detector, inference_detector\n",
    "from mmengine.visualization import Visualizer\n",
    "from mmengine import Config\n",
    "\n",
    "from glob import glob\n",
    "import random\n",
    "\n",
    "\n",
    "from mmdet.utils import register_all_modules\n",
    "# register all modules in mmdet into the registries\n",
    "register_all_modules()"
   ]
  },
  {
   "cell_type": "code",
   "execution_count": null,
   "metadata": {},
   "outputs": [],
   "source": [
    "config_file = '/home/lcondados/workspace/mmdetection_lightly_ssl/configs/custom_config/rtmdet-ins_tiny_1xb8-50e_custom/runtime_config.py'\n",
    "checkpoint_file = '/home/lcondados/workspace/mmdetection_lightly_ssl/output-train/epoch_10.pth'\n",
    "\n",
    "images_dir = '/home/lcondados/workspace/data/ballondatasets/balloon/val'"
   ]
  },
  {
   "cell_type": "code",
   "execution_count": null,
   "metadata": {},
   "outputs": [],
   "source": [
    "cfg = Config.fromfile(config_file)\n",
    "\n",
    "all_imagespath = glob( f'{images_dir}/*.jpg' )"
   ]
  },
  {
   "cell_type": "code",
   "execution_count": null,
   "metadata": {},
   "outputs": [],
   "source": [
    "model = init_detector(cfg, checkpoint_file, device='cpu')"
   ]
  },
  {
   "cell_type": "code",
   "execution_count": null,
   "metadata": {},
   "outputs": [],
   "source": [
    "# new_result = inference_detector(model, img)\n",
    "# print(new_result)"
   ]
  },
  {
   "cell_type": "code",
   "execution_count": null,
   "metadata": {},
   "outputs": [],
   "source": [
    "# Visualizer.get_instance('viz')"
   ]
  },
  {
   "cell_type": "code",
   "execution_count": null,
   "metadata": {},
   "outputs": [],
   "source": [
    "model.dataset_meta"
   ]
  },
  {
   "cell_type": "code",
   "execution_count": null,
   "metadata": {},
   "outputs": [],
   "source": [
    "imagepath = random.choice(all_imagespath)\n",
    "\n",
    "img = mmcv.imread(imagepath, channel_order='rgb')\n",
    "\n",
    "new_result = inference_detector(model, img)\n",
    "# print(new_result)\n",
    "\n",
    "Visualizer.get_instance('viz')\n",
    "\n",
    "# get built visualizer\n",
    "visualizer_now = Visualizer.get_current_instance()\n",
    "\n",
    "# the dataset_meta is loaded from the checkpoint and\n",
    "# then pass to the model in init_detector\n",
    "visualizer_now.dataset_meta = model.dataset_meta\n",
    "# show the results\n",
    "visualizer_now.add_datasample(\n",
    "    'new_result',\n",
    "    img,\n",
    "    data_sample=new_result,\n",
    "    draw_gt=False,\n",
    "    wait_time=0,\n",
    "    # out_file=None,\n",
    "    # pred_score_thr=0.5\n",
    ")\n",
    "visualizer_now.show()"
   ]
  }
 ],
 "metadata": {
  "kernelspec": {
   "display_name": "mmdet-ssl",
   "language": "python",
   "name": "python3"
  },
  "language_info": {
   "codemirror_mode": {
    "name": "ipython",
    "version": 3
   },
   "file_extension": ".py",
   "mimetype": "text/x-python",
   "name": "python",
   "nbconvert_exporter": "python",
   "pygments_lexer": "ipython3",
   "version": "3.9.16"
  },
  "orig_nbformat": 4
 },
 "nbformat": 4,
 "nbformat_minor": 2
}
